{
 "cells": [
  {
   "cell_type": "code",
   "execution_count": null,
   "metadata": {
    "colab": {
     "base_uri": "https://localhost:8080/"
    },
    "id": "bvAhszsguNr9",
    "outputId": "1f85ff6a-801d-4ee6-e817-7406eee9a73e"
   },
   "outputs": [
    {
     "name": "stdout",
     "output_type": "stream",
     "text": [
      "Requirement already satisfied: fasttext in /usr/local/lib/python3.7/dist-packages (0.9.2)\n",
      "Requirement already satisfied: numpy in /usr/local/lib/python3.7/dist-packages (from fasttext) (1.19.5)\n",
      "Requirement already satisfied: pybind11>=2.2 in /usr/local/lib/python3.7/dist-packages (from fasttext) (2.8.1)\n",
      "Requirement already satisfied: setuptools>=0.7.0 in /usr/local/lib/python3.7/dist-packages (from fasttext) (57.4.0)\n"
     ]
    }
   ],
   "source": [
    "pip install fasttext"
   ]
  },
  {
   "cell_type": "code",
   "execution_count": null,
   "metadata": {
    "id": "moYV3_rI-nUU"
   },
   "outputs": [],
   "source": [
    "import fasttext.util"
   ]
  },
  {
   "cell_type": "code",
   "execution_count": 1,
   "metadata": {
    "colab": {
     "base_uri": "https://localhost:8080/",
     "height": 91
    },
    "id": "SQeq9O6cuHGm",
    "outputId": "39b5f2b5-b201-4682-a7b5-9c890a6d3a73"
   },
   "outputs": [],
   "source": [
    "# fasttext.util.download_model('en', if_exists='ignore') "
   ]
  },
  {
   "cell_type": "markdown",
   "metadata": {},
   "source": [
    "حمل الملف من هنا \n",
    "\n",
    "\n",
    "https://dl.fbaipublicfiles.com/fasttext/vectors-crawl/cc.en.300.bin.gz"
   ]
  },
  {
   "cell_type": "code",
   "execution_count": null,
   "metadata": {
    "colab": {
     "base_uri": "https://localhost:8080/"
    },
    "id": "f2HxD60dv5Z3",
    "outputId": "8c0fb0b2-13de-449a-f153-6694cfe0b19f"
   },
   "outputs": [
    {
     "name": "stderr",
     "output_type": "stream",
     "text": [
      "Warning : `load_model` does not return WordVectorModel or SupervisedModel any more, but a `FastText` object which is very similar.\n"
     ]
    }
   ],
   "source": [
    "EnglishWE = fasttext.load_model('/content/cc.en.300.bin')"
   ]
  },
  {
   "cell_type": "code",
   "execution_count": null,
   "metadata": {
    "colab": {
     "base_uri": "https://localhost:8080/"
    },
    "id": "TdiJgd7Qyix3",
    "outputId": "c0bc7280-0404-435c-852c-b1164876a5ad"
   },
   "outputs": [
    {
     "data": {
      "text/plain": [
       "300"
      ]
     },
     "execution_count": 8,
     "metadata": {},
     "output_type": "execute_result"
    }
   ],
   "source": [
    "WE = [i for i in EnglishWE['Dog']]\n",
    "len(WE)"
   ]
  },
  {
   "cell_type": "code",
   "execution_count": null,
   "metadata": {
    "id": "nINqK830yivZ"
   },
   "outputs": [],
   "source": [
    "def EnglishWEFunction(Word) : \n",
    "    WE = [i for i in EnglishWE[Word]]\n",
    "    return WE   "
   ]
  },
  {
   "cell_type": "code",
   "execution_count": null,
   "metadata": {
    "colab": {
     "base_uri": "https://localhost:8080/"
    },
    "id": "OylFGOBf_Qv7",
    "outputId": "94cde529-b87b-486c-d892-3840302280b0"
   },
   "outputs": [
    {
     "data": {
      "text/plain": [
       "[0.16797343,\n",
       " -0.0012915097,\n",
       " 0.01619076,\n",
       " 0.27790722,\n",
       " -0.10621118,\n",
       " 0.036571708,\n",
       " 0.2042775,\n",
       " 0.064157106,\n",
       " -0.011483479,\n",
       " 0.05821145,\n",
       " -0.22524177,\n",
       " -0.21296273,\n",
       " -0.07619001,\n",
       " -0.0495243,\n",
       " 0.044902146,\n",
       " 0.24309441,\n",
       " 0.044567898,\n",
       " -0.028788459,\n",
       " -0.3035171,\n",
       " 0.0158186,\n",
       " -0.20969255,\n",
       " -0.021452324,\n",
       " -0.09633946,\n",
       " -0.045862637,\n",
       " -0.02090367,\n",
       " -0.25138012,\n",
       " 0.10532926,\n",
       " -0.1831662,\n",
       " 0.0060016178,\n",
       " 0.24515434,\n",
       " 0.0032330453,\n",
       " 0.22065218,\n",
       " -0.014099715,\n",
       " 0.0683034,\n",
       " -0.07115323,\n",
       " -0.0064189658,\n",
       " -0.0014906079,\n",
       " 0.069382176,\n",
       " -0.15117021,\n",
       " -0.41590753,\n",
       " 0.08081938,\n",
       " 0.043149598,\n",
       " -0.18901569,\n",
       " 0.02689096,\n",
       " -0.20533894,\n",
       " 0.028296709,\n",
       " 0.014560129,\n",
       " 0.038765326,\n",
       " -0.20197397,\n",
       " 0.27379614,\n",
       " -0.2366355,\n",
       " -0.1277546,\n",
       " -0.066544175,\n",
       " -0.1274356,\n",
       " -0.24377124,\n",
       " 0.18009841,\n",
       " -0.04074678,\n",
       " -0.015528493,\n",
       " -0.14595772,\n",
       " 0.109287806,\n",
       " 0.027287677,\n",
       " 0.016250156,\n",
       " 0.14619264,\n",
       " 0.08557123,\n",
       " -0.1292741,\n",
       " -0.008422561,\n",
       " 0.15677556,\n",
       " 0.23729092,\n",
       " -0.1707532,\n",
       " 0.12808749,\n",
       " -0.009494282,\n",
       " 0.035039544,\n",
       " -0.07176857,\n",
       " -0.1995765,\n",
       " -0.09005836,\n",
       " -0.060077675,\n",
       " 0.15112849,\n",
       " -0.024910847,\n",
       " 0.036721356,\n",
       " 0.076686725,\n",
       " 0.017840654,\n",
       " -0.10687724,\n",
       " -0.01101496,\n",
       " -0.19196266,\n",
       " -0.022426542,\n",
       " -0.04039514,\n",
       " 0.14546907,\n",
       " -0.023605868,\n",
       " 0.11044045,\n",
       " -0.097599834,\n",
       " 0.023792583,\n",
       " -0.20565659,\n",
       " 0.01721616,\n",
       " 0.03199153,\n",
       " 0.008152837,\n",
       " 0.08656359,\n",
       " 0.18502286,\n",
       " 0.18402475,\n",
       " 0.10668078,\n",
       " 0.03738188,\n",
       " -0.4074914,\n",
       " -0.040229708,\n",
       " 0.08458148,\n",
       " -0.11117537,\n",
       " -0.25287393,\n",
       " 0.17724703,\n",
       " -0.18504605,\n",
       " 0.25140703,\n",
       " -0.012714244,\n",
       " -0.14831553,\n",
       " 0.1600358,\n",
       " -0.05883258,\n",
       " -0.061357625,\n",
       " 0.11166456,\n",
       " -0.14569472,\n",
       " 0.14750557,\n",
       " -0.3153151,\n",
       " 0.010786569,\n",
       " -0.15187092,\n",
       " -0.04359063,\n",
       " -0.0634594,\n",
       " -0.088840656,\n",
       " -0.057771217,\n",
       " -0.09834495,\n",
       " -0.025062118,\n",
       " 0.07741003,\n",
       " -0.080654785,\n",
       " 0.12711865,\n",
       " 0.16980766,\n",
       " -0.19458896,\n",
       " -0.12635261,\n",
       " -0.05503424,\n",
       " -0.059657663,\n",
       " -0.15294074,\n",
       " -0.09047022,\n",
       " 0.05964619,\n",
       " 0.18547264,\n",
       " 0.021849299,\n",
       " 0.2296952,\n",
       " -0.13329673,\n",
       " -0.07195106,\n",
       " -0.031211872,\n",
       " -0.0077243745,\n",
       " -0.03858921,\n",
       " -0.06347749,\n",
       " 0.016765416,\n",
       " -0.30626687,\n",
       " 0.39329478,\n",
       " -0.07541074,\n",
       " -0.1283311,\n",
       " 0.009501293,\n",
       " -0.29389495,\n",
       " -0.050465036,\n",
       " -0.12812214,\n",
       " -0.15552156,\n",
       " 0.110129,\n",
       " 0.031947453,\n",
       " 0.02212383,\n",
       " -0.1495015,\n",
       " 0.16552612,\n",
       " -0.17551072,\n",
       " 0.1453113,\n",
       " 0.1827914,\n",
       " -0.14981437,\n",
       " -0.21875371,\n",
       " -0.1254919,\n",
       " 0.18674739,\n",
       " -0.12732399,\n",
       " -0.023174915,\n",
       " 0.03523151,\n",
       " 0.09008883,\n",
       " 0.11684711,\n",
       " -0.21788248,\n",
       " -0.011557106,\n",
       " 0.047200844,\n",
       " -0.117698625,\n",
       " 0.15802756,\n",
       " 0.08140251,\n",
       " -0.19042213,\n",
       " -0.13775437,\n",
       " 0.0856982,\n",
       " -0.096681,\n",
       " -0.07519216,\n",
       " -0.20052913,\n",
       " 0.10061246,\n",
       " 0.07723006,\n",
       " 0.2077197,\n",
       " -0.042454537,\n",
       " -0.00779141,\n",
       " 0.15528412,\n",
       " -0.23522,\n",
       " -0.0190185,\n",
       " 0.01032567,\n",
       " 0.0056195483,\n",
       " 0.103558026,\n",
       " 0.005051328,\n",
       " -0.0062351897,\n",
       " 0.15057383,\n",
       " -0.022162814,\n",
       " 0.114179984,\n",
       " 0.060052067,\n",
       " 0.036393054,\n",
       " 0.05854595,\n",
       " 0.04371137,\n",
       " 0.029149488,\n",
       " 0.16142541,\n",
       " 0.033821225,\n",
       " -0.17429261,\n",
       " 0.08662991,\n",
       " 0.1907782,\n",
       " 0.07996318,\n",
       " -0.15227565,\n",
       " -0.060103737,\n",
       " -0.11483645,\n",
       " -0.104702614,\n",
       " -0.35195923,\n",
       " -0.089052565,\n",
       " -0.06273567,\n",
       " -0.014287148,\n",
       " -0.01347531,\n",
       " 0.1672279,\n",
       " 0.0007054927,\n",
       " 0.07096557,\n",
       " -0.044050395,\n",
       " 0.13617563,\n",
       " 0.037749834,\n",
       " 0.16895525,\n",
       " -0.04593222,\n",
       " -0.10215944,\n",
       " 0.034580186,\n",
       " -0.19589837,\n",
       " 0.045083378,\n",
       " -0.07737713,\n",
       " 0.13069247,\n",
       " -0.014187038,\n",
       " -0.025347799,\n",
       " -0.193466,\n",
       " 0.033326354,\n",
       " -0.044809647,\n",
       " 0.153066,\n",
       " -0.008619595,\n",
       " -0.07667975,\n",
       " -0.20965469,\n",
       " -0.18245429,\n",
       " 0.1157611,\n",
       " -0.17064586,\n",
       " 0.06850301,\n",
       " -0.0045300736,\n",
       " 0.0069396384,\n",
       " 0.038153842,\n",
       " 0.031017354,\n",
       " -0.0461829,\n",
       " 0.0432574,\n",
       " -0.1529224,\n",
       " -0.40706924,\n",
       " 0.101857364,\n",
       " -0.04173297,\n",
       " -0.12702906,\n",
       " 0.034665015,\n",
       " 0.101607725,\n",
       " -0.040658325,\n",
       " -0.11958931,\n",
       " -0.0040996224,\n",
       " -0.0848252,\n",
       " -0.14605616,\n",
       " 0.032799657,\n",
       " -0.1637969,\n",
       " 0.026055489,\n",
       " -0.019874472,\n",
       " -0.10404594,\n",
       " 0.021198114,\n",
       " 0.14655825,\n",
       " -0.17055693,\n",
       " 0.0447331,\n",
       " -0.25232658,\n",
       " 0.04228683,\n",
       " -0.06107245,\n",
       " 0.11194584,\n",
       " -0.078010306,\n",
       " -0.11292272,\n",
       " 0.0557847,\n",
       " 0.045020815,\n",
       " -0.1698344,\n",
       " -0.025950298,\n",
       " -0.06438185,\n",
       " 0.1335313,\n",
       " -0.12403029,\n",
       " -0.08875973,\n",
       " -0.055613212,\n",
       " -0.17166188,\n",
       " -0.092145644,\n",
       " -0.039017946,\n",
       " -0.141013,\n",
       " 0.074793234,\n",
       " 0.22649087,\n",
       " -0.20450641,\n",
       " -0.15849999,\n",
       " 0.30272514,\n",
       " 0.0942003,\n",
       " 0.1539942]"
      ]
     },
     "execution_count": 10,
     "metadata": {},
     "output_type": "execute_result"
    }
   ],
   "source": [
    "EnglishWEFunction('dog')"
   ]
  },
  {
   "cell_type": "code",
   "execution_count": null,
   "metadata": {
    "colab": {
     "base_uri": "https://localhost:8080/"
    },
    "id": "tZi2c6IoANf3",
    "outputId": "8cc755bc-6e2e-40d0-9cc7-0a46efc7afce"
   },
   "outputs": [
    {
     "data": {
      "text/plain": [
       "[',',\n",
       " 'the',\n",
       " '.',\n",
       " 'and',\n",
       " 'to',\n",
       " 'of',\n",
       " 'a',\n",
       " '</s>',\n",
       " 'in',\n",
       " 'is',\n",
       " ':',\n",
       " 'I',\n",
       " 'for',\n",
       " 'that',\n",
       " ')',\n",
       " '\"',\n",
       " '(',\n",
       " 'on',\n",
       " 'with',\n",
       " 'it']"
      ]
     },
     "execution_count": 14,
     "metadata": {},
     "output_type": "execute_result"
    }
   ],
   "source": [
    "EnglishWE.get_words()[:20]"
   ]
  },
  {
   "cell_type": "code",
   "execution_count": null,
   "metadata": {
    "colab": {
     "base_uri": "https://localhost:8080/"
    },
    "id": "KCtv2kuq_STJ",
    "outputId": "3e3b8ff6-201d-4a6d-fa99-3d7738bef2bc"
   },
   "outputs": [
    {
     "data": {
      "text/plain": [
       "2000000"
      ]
     },
     "execution_count": 13,
     "metadata": {},
     "output_type": "execute_result"
    }
   ],
   "source": [
    "len(EnglishWE.get_words())"
   ]
  },
  {
   "cell_type": "code",
   "execution_count": null,
   "metadata": {
    "id": "7lWEIhrbAD-_"
   },
   "outputs": [],
   "source": [
    "def SimilarWords(Word) :\n",
    "    Word = Word.lower()\n",
    "    if Word in EnglishWE.get_words() : \n",
    "        WordsDifference = {}\n",
    "        for EachWord in EnglishWE.get_words()[:10000] : \n",
    "            WordsDifference[EachWord] = sum([abs(float(i)-float(j)) for i,j in zip([i for i in EnglishWE[Word]],[i for i in EnglishWE[EachWord]])])\n",
    "        return list({k: v for k, v in sorted(WordsDifference.items(), key=lambda item: item[1])}.items())[:10]\n",
    "    else : \n",
    "        return 'Word not exists'"
   ]
  },
  {
   "cell_type": "code",
   "execution_count": null,
   "metadata": {
    "id": "r1LHD6x2RDtV"
   },
   "outputs": [],
   "source": [
    "# WordsDifference = {'book':15.6, 'university':19.3 . . . . . . .}"
   ]
  },
  {
   "cell_type": "code",
   "execution_count": null,
   "metadata": {
    "colab": {
     "base_uri": "https://localhost:8080/"
    },
    "id": "eQ8ukArKAgp7",
    "outputId": "0c32a800-a96f-4a6b-8062-e82fbe45487c"
   },
   "outputs": [
    {
     "data": {
      "text/plain": [
       "[('good', 0.0),\n",
       " ('great', 9.928391179710161),\n",
       " ('decent', 10.087051496874665),\n",
       " ('excellent', 11.231233969156165),\n",
       " ('better', 11.446643645584118),\n",
       " ('pretty', 11.571182941319421),\n",
       " ('terrific', 11.663844823160616),\n",
       " ('really', 11.697962307807757),\n",
       " ('nice', 11.842659651156282),\n",
       " ('terrible', 11.926131740139681)]"
      ]
     },
     "execution_count": 25,
     "metadata": {},
     "output_type": "execute_result"
    }
   ],
   "source": [
    "SimilarWords('good')"
   ]
  },
  {
   "cell_type": "code",
   "execution_count": null,
   "metadata": {
    "colab": {
     "base_uri": "https://localhost:8080/"
    },
    "id": "58ybVGlDAiw_",
    "outputId": "9701f9ab-0ef9-4e67-96f9-eac11ad57077"
   },
   "outputs": [
    {
     "data": {
      "text/plain": [
       "[('awful', 0.0),\n",
       " ('horrible', 7.350138985166268),\n",
       " ('terrible', 7.6622938341024565),\n",
       " ('ridiculous', 10.561988652829314),\n",
       " ('unfortunate', 11.184722229219915),\n",
       " ('stupid', 11.248670937231509),\n",
       " ('frustrating', 11.301680536700587),\n",
       " ('pretty', 11.343915693869349),\n",
       " ('annoying', 11.383076160767814),\n",
       " ('awesome', 11.460798780335608)]"
      ]
     },
     "execution_count": 26,
     "metadata": {},
     "output_type": "execute_result"
    }
   ],
   "source": [
    "SimilarWords('awful')"
   ]
  },
  {
   "cell_type": "code",
   "execution_count": null,
   "metadata": {
    "colab": {
     "base_uri": "https://localhost:8080/"
    },
    "id": "2MIxuUYpB0Cq",
    "outputId": "55629367-95b8-4630-d33a-ec1c0b22bec5"
   },
   "outputs": [
    {
     "data": {
      "text/plain": [
       "[('Egypt', 14.153405567631125),\n",
       " ('Egyptian', 15.583376786729787),\n",
       " ('ancient', 17.398544892581413),\n",
       " ('Afghanistan', 17.502620629653393),\n",
       " ('Palestine', 17.57370877219364),\n",
       " ('Pakistan', 17.58004485946003),\n",
       " ('university', 17.845438563570497),\n",
       " ('Mediterranean', 17.888189511024393),\n",
       " ('revolution', 17.925125759659295),\n",
       " ('Bangladesh', 17.934947718833826)]"
      ]
     },
     "execution_count": 27,
     "metadata": {},
     "output_type": "execute_result"
    }
   ],
   "source": [
    "SimilarWords('Egypt')"
   ]
  },
  {
   "cell_type": "code",
   "execution_count": null,
   "metadata": {
    "id": "JWilVs4mCBHu"
   },
   "outputs": [],
   "source": []
  }
 ],
 "metadata": {
  "colab": {
   "collapsed_sections": [],
   "name": "8.7.1 Fast Text English.ipynb",
   "provenance": []
  },
  "kernelspec": {
   "display_name": "Python 3 (ipykernel)",
   "language": "python",
   "name": "python3"
  },
  "language_info": {
   "codemirror_mode": {
    "name": "ipython",
    "version": 3
   },
   "file_extension": ".py",
   "mimetype": "text/x-python",
   "name": "python",
   "nbconvert_exporter": "python",
   "pygments_lexer": "ipython3",
   "version": "3.9.13"
  }
 },
 "nbformat": 4,
 "nbformat_minor": 1
}
